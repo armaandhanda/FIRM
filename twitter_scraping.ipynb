{
 "cells": [
  {
   "cell_type": "code",
   "execution_count": 1,
   "id": "b03fed99-6cdb-4bb8-80c1-cd2349abc80f",
   "metadata": {},
   "outputs": [],
   "source": [
    "from datetime import datetime\n",
    "import os"
   ]
  },
  {
   "cell_type": "code",
   "execution_count": 3,
   "id": "9f02b0c5-e8d6-4b93-b059-f1de9cd1f808",
   "metadata": {},
   "outputs": [],
   "source": [
    "root_path = '/Users/anuragmudgil/Desktop/Study/FIRM/Dataset/Raw_Tweets/2024-08-15/'"
   ]
  },
  {
   "cell_type": "code",
   "execution_count": 5,
   "id": "d72bbf8c-ea3e-4c02-b41d-1fd6a20f8ef5",
   "metadata": {},
   "outputs": [
    {
     "name": "stdout",
     "output_type": "stream",
     "text": [
      "['Apple', '.DS_Store', 'Amazon', 'Google', 'Microsoft', 'Berkshire Hathaway Inc.', 'Tesla', 'Meta', 'Visa', 'Walmart', 'Netflix', 'Nvidia', 'JP Morgan Chase & Co', 'Broadcom Inc.', 'Exxon Mobil Corporation', 'Eli Lilly and Company']\n"
     ]
    }
   ],
   "source": [
    "companies = [f for f in os.listdir(root_path)]\n",
    "print(companies)"
   ]
  },
  {
   "cell_type": "code",
   "execution_count": 21,
   "id": "12df3df5-6bc3-401e-ab56-8f97b95c1018",
   "metadata": {},
   "outputs": [
    {
     "name": "stdout",
     "output_type": "stream",
     "text": [
      "For Apple: 204 {'2024-08-13': 61, '2024-08-09': 10, '2024-08-12': 54, '2024-08-11': 14, '2024-08-14': 43, '2024-08-10': 22}\n",
      "For Amazon: 239 {'2024-08-13': 71, '2024-08-10': 48, '2024-08-12': 48, '2024-08-14': 42, '2024-08-11': 24, '2024-08-09': 6}\n",
      "For Google: 216 {'2024-08-13': 82, '2024-08-14': 55, '2024-08-12': 40, '2024-08-10': 15, '2024-08-11': 19, '2024-08-09': 5}\n",
      "For Microsoft: 213 {'2024-08-10': 33, '2024-08-13': 59, '2024-08-09': 7, '2024-08-12': 58, '2024-08-14': 36, '2024-08-11': 20}\n",
      "For Berkshire Hathaway Inc.: 178 {'2024-08-12': 45, '2024-08-14': 47, '2024-08-13': 48, '2024-08-10': 17, '2024-08-09': 6, '2024-08-11': 15}\n",
      "For Tesla: 165 {'2024-08-10': 18, '2024-08-14': 23, '2024-08-12': 43, '2024-08-13': 62, '2024-08-11': 13, '2024-08-09': 6}\n",
      "For Meta: 185 {'2024-08-11': 8, '2024-08-13': 49, '2024-08-09': 6, '2024-08-12': 54, '2024-08-10': 17, '2024-08-14': 51}\n",
      "For Visa: 186 {'2024-08-10': 23, '2024-08-11': 18, '2024-08-13': 59, '2024-08-14': 35, '2024-08-12': 48, '2024-08-09': 3}\n",
      "For Walmart: 205 {'2024-08-13': 61, '2024-08-14': 56, '2024-08-12': 48, '2024-08-10': 16, '2024-08-11': 21, '2024-08-09': 3}\n",
      "For Netflix: 181 {'2024-08-12': 41, '2024-08-10': 26, '2024-08-13': 68, '2024-08-14': 35, '2024-08-11': 7, '2024-08-09': 4}\n",
      "For Nvidia: 135 {'2024-08-14': 28, '2024-08-12': 30, '2024-08-13': 44, '2024-08-11': 20, '2024-08-10': 13}\n",
      "For JP Morgan Chase & Co: 195 {'2024-08-12': 51, '2024-08-10': 12, '2024-08-09': 13, '2024-08-14': 47, '2024-08-13': 59, '2024-08-11': 13}\n",
      "For Broadcom Inc.: 181 {'2024-08-13': 51, '2024-08-12': 53, '2024-08-10': 14, '2024-08-11': 19, '2024-08-14': 37, '2024-08-09': 7}\n",
      "For Exxon Mobil Corporation: 188 {'2024-08-12': 58, '2024-08-14': 37, '2024-08-13': 62, '2024-08-10': 19, '2024-08-11': 9, '2024-08-09': 3}\n",
      "For Eli Lilly and Company: 188 {'2024-08-13': 53, '2024-08-10': 19, '2024-08-12': 61, '2024-08-14': 32, '2024-08-11': 13, '2024-08-09': 10}\n"
     ]
    }
   ],
   "source": [
    "for company in companies:\n",
    "    if company == '.DS_Store':\n",
    "        continue\n",
    "    curr_path = root_path + company + '/'\n",
    "    files = os.listdir(curr_path)\n",
    "    ids = {}\n",
    "    filter_tweets = []\n",
    "    dates = {}\n",
    "    for file in files:\n",
    "        file_path = curr_path + file\n",
    "        with open(file_path, 'r') as file:\n",
    "            data = json.load(file)\n",
    "        tweets = data['results']\n",
    "        for tweet in tweets:\n",
    "            tweet_id = tweet['id']\n",
    "            text = tweet['text']\n",
    "            if tweet_id in ids:\n",
    "                continue\n",
    "            ids[tweet_id] = 1\n",
    "            date_only = datetime.fromtimestamp(tweet['epoch']).strftime('%Y-%m-%d')\n",
    "            dates[date_only] = dates.get(date_only, 0) + 1\n",
    "            new_tweet = {\n",
    "                'id': tweet_id,\n",
    "                'text': text,\n",
    "                'date': date_only\n",
    "            }\n",
    "            filter_tweets.append(new_tweet)\n",
    "    output_folder_path = f'/Users/anuragmudgil/Desktop/Study/FIRM/Dataset/Final_Tweets/15-08-2024/{company}'\n",
    "    os.makedirs(output_folder_path)\n",
    "    output_file_path = output_folder_path + '/tweets.json'\n",
    "    with open(output_file_path, \"w\") as file:\n",
    "        json.dump(filter_tweets, file, indent=4)\n",
    "    print(f'For {company}: {len(ids)} {dates}')"
   ]
  },
  {
   "cell_type": "code",
   "execution_count": null,
   "id": "d98dd89b-651b-43dd-8809-7a123d3d91f2",
   "metadata": {},
   "outputs": [],
   "source": []
  },
  {
   "cell_type": "code",
   "execution_count": null,
   "id": "d7ad4747-5141-4c12-8d24-d2c74bbb9b25",
   "metadata": {},
   "outputs": [],
   "source": []
  },
  {
   "cell_type": "code",
   "execution_count": null,
   "id": "c4c0d6ea-0165-47ae-9262-d0858e1ce552",
   "metadata": {},
   "outputs": [],
   "source": [
    "\n",
    "\n",
    "\n",
    "dates = {}\n",
    "filter_tweets = []\n"
   ]
  },
  {
   "cell_type": "code",
   "execution_count": null,
   "id": "a3c2bceb-53f7-48e8-be0d-8cb7b90b1783",
   "metadata": {},
   "outputs": [],
   "source": []
  },
  {
   "cell_type": "code",
   "execution_count": null,
   "id": "658258fc-290f-4bb6-a525-eec65cb8f624",
   "metadata": {},
   "outputs": [],
   "source": []
  },
  {
   "cell_type": "code",
   "execution_count": null,
   "id": "151ecd61-e1e8-4a02-a9ba-106da1f7662f",
   "metadata": {},
   "outputs": [],
   "source": []
  }
 ],
 "metadata": {
  "kernelspec": {
   "display_name": "Python 3 (ipykernel)",
   "language": "python",
   "name": "python3"
  },
  "language_info": {
   "codemirror_mode": {
    "name": "ipython",
    "version": 3
   },
   "file_extension": ".py",
   "mimetype": "text/x-python",
   "name": "python",
   "nbconvert_exporter": "python",
   "pygments_lexer": "ipython3",
   "version": "3.12.4"
  }
 },
 "nbformat": 4,
 "nbformat_minor": 5
}
